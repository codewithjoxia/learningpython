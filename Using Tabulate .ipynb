{
 "cells": [
  {
   "cell_type": "markdown",
   "id": "554c5d07",
   "metadata": {},
   "source": [
    "## TABLE USING TABULATE METHOD\n",
    "\n",
    "You need to install the tabulate module -- pip install tabulate\n",
    "\n",
    "### Source: https://pypi.org/project/tabulate/"
   ]
  },
  {
   "cell_type": "code",
   "execution_count": 1,
   "id": "0c5f5ad9",
   "metadata": {},
   "outputs": [
    {
     "name": "stdout",
     "output_type": "stream",
     "text": [
      "  DS    ML    AI\n",
      "----  ----  ----\n",
      "  88    92    72\n",
      "  75    71    84\n",
      "  89    79    93\n"
     ]
    }
   ],
   "source": [
    "from tabulate import tabulate\n",
    "\n",
    "table = [\n",
    "    [88, 92, 72],\n",
    "    [75, 71, 84],\n",
    "    [89, 79, 93]\n",
    "]\n",
    "\n",
    "header = ['DS', 'ML', 'AI']\n",
    "\n",
    "print (tabulate(table, header))"
   ]
  },
  {
   "cell_type": "code",
   "execution_count": null,
   "id": "f9b4201f",
   "metadata": {},
   "outputs": [],
   "source": []
  },
  {
   "cell_type": "code",
   "execution_count": null,
   "id": "82f2979f",
   "metadata": {},
   "outputs": [],
   "source": []
  },
  {
   "cell_type": "markdown",
   "id": "23a2479b",
   "metadata": {},
   "source": [
    "## Swap Case in Python\n",
    "\n",
    "### You are given a string and your task is to swap cases. \n",
    "### In other words, convert all lowercase letters to uppercase letters and vice versa.\n",
    "\n",
    "### For Example \n",
    "### CODEwithJoxia -> codeWITHjOXIA\n",
    "### PythonCoder -> pYTHONcODER"
   ]
  },
  {
   "cell_type": "code",
   "execution_count": 1,
   "id": "87e8fab8",
   "metadata": {},
   "outputs": [
    {
     "name": "stdout",
     "output_type": "stream",
     "text": [
      "codeWITHjOXIA\n",
      "pYTHONcODER\n"
     ]
    }
   ],
   "source": [
    "string1 = 'CODEwithJoxia'\n",
    "string2 = 'PythonCoder'\n",
    "\n",
    "def swap_case(s):\n",
    "    \n",
    "    result = ''\n",
    "    \n",
    "    for char in s:\n",
    "        if(char.isupper()==True):\n",
    "            result += (char.lower())\n",
    "        elif(char.islower()==True):\n",
    "            result += (char.upper())\n",
    "        else:\n",
    "            result += char\n",
    "    return result\n",
    "\n",
    "\n",
    "print (swap_case(string1))\n",
    "print (swap_case(string2))"
   ]
  },
  {
   "cell_type": "code",
   "execution_count": null,
   "id": "49b8bd4f",
   "metadata": {},
   "outputs": [],
   "source": []
  }
 ],
 "metadata": {
  "kernelspec": {
   "display_name": "Python 3",
   "language": "python",
   "name": "python3"
  },
  "language_info": {
   "codemirror_mode": {
    "name": "ipython",
    "version": 3
   },
   "file_extension": ".py",
   "mimetype": "text/x-python",
   "name": "python",
   "nbconvert_exporter": "python",
   "pygments_lexer": "ipython3",
   "version": "3.9.5"
  }
 },
 "nbformat": 4,
 "nbformat_minor": 5
}
