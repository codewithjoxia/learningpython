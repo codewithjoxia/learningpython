{
 "cells": [
  {
   "cell_type": "markdown",
   "id": "6655ed83",
   "metadata": {},
   "source": [
    "## TABLE USING TABULATE METHOD\n",
    "\n",
    "You need to install the tabulate module -- pip install tabulate\n",
    "\n",
    "### Source: https://pypi.org/project/tabulate/"
   ]
  },
  {
   "cell_type": "code",
   "execution_count": 6,
   "id": "ab837bc2",
   "metadata": {},
   "outputs": [
    {
     "name": "stdout",
     "output_type": "stream",
     "text": [
      "  Math    Math    Math\n",
      "------  ------  ------\n",
      "    90      93      45\n",
      "    90      93      45\n",
      "    90      93      45\n"
     ]
    }
   ],
   "source": [
    "from tabulate import tabulate\n",
    "\n",
    "table = [\n",
    "    [90, 93, 45],\n",
    "    [90, 93, 45],\n",
    "    [90, 93, 45]\n",
    "]\n",
    "\n",
    "header = ['Math', 'Math', 'Math']\n",
    "\n",
    "print (tabulate(table, header))"
   ]
  },
  {
   "cell_type": "code",
   "execution_count": null,
   "id": "a8ba9ecb",
   "metadata": {},
   "outputs": [],
   "source": []
  }
 ],
 "metadata": {
  "kernelspec": {
   "display_name": "Python 3",
   "language": "python",
   "name": "python3"
  },
  "language_info": {
   "codemirror_mode": {
    "name": "ipython",
    "version": 3
   },
   "file_extension": ".py",
   "mimetype": "text/x-python",
   "name": "python",
   "nbconvert_exporter": "python",
   "pygments_lexer": "ipython3",
   "version": "3.8.8"
  }
 },
 "nbformat": 4,
 "nbformat_minor": 5
}
